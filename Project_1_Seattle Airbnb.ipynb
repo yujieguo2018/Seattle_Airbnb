{
 "cells": [
  {
   "cell_type": "markdown",
   "metadata": {},
   "source": [
    "# Data Gather"
   ]
  },
  {
   "cell_type": "code",
   "execution_count": 4,
   "metadata": {},
   "outputs": [],
   "source": [
    "import numpy as np\n",
    "import pandas as pd"
   ]
  },
  {
   "cell_type": "markdown",
   "metadata": {},
   "source": [
    "There are 3 cvs files from Kaggle - Seattle Airbnb Project"
   ]
  },
  {
   "cell_type": "code",
   "execution_count": 5,
   "metadata": {},
   "outputs": [],
   "source": [
    "cal_df = pd.read_csv('./Data/calendar.csv')"
   ]
  },
  {
   "cell_type": "code",
   "execution_count": 6,
   "metadata": {},
   "outputs": [],
   "source": [
    "listing_df = pd.read_csv('./Data/listings.csv')"
   ]
  },
  {
   "cell_type": "code",
   "execution_count": 7,
   "metadata": {},
   "outputs": [],
   "source": [
    "review_df = pd.read_csv('./Data/reviews.csv')"
   ]
  },
  {
   "cell_type": "markdown",
   "metadata": {},
   "source": [
    "# Data Access"
   ]
  },
  {
   "cell_type": "markdown",
   "metadata": {},
   "source": [
    "Take a look at what information each csv files contains"
   ]
  },
  {
   "cell_type": "code",
   "execution_count": 8,
   "metadata": {
    "scrolled": true
   },
   "outputs": [
    {
     "name": "stdout",
     "output_type": "stream",
     "text": [
      "<class 'pandas.core.frame.DataFrame'>\n",
      "RangeIndex: 1393570 entries, 0 to 1393569\n",
      "Data columns (total 4 columns):\n",
      "listing_id    1393570 non-null int64\n",
      "date          1393570 non-null object\n",
      "available     1393570 non-null object\n",
      "price         934542 non-null object\n",
      "dtypes: int64(1), object(3)\n",
      "memory usage: 42.5+ MB\n"
     ]
    }
   ],
   "source": [
    "cal_df.info()"
   ]
  },
  {
   "cell_type": "code",
   "execution_count": 9,
   "metadata": {},
   "outputs": [
    {
     "data": {
      "text/plain": [
       "3818"
      ]
     },
     "execution_count": 9,
     "metadata": {},
     "output_type": "execute_result"
    }
   ],
   "source": [
    "cal_df['listing_id'].nunique()"
   ]
  },
  {
   "cell_type": "markdown",
   "metadata": {},
   "source": [
    "The calendar file contains pice change over time for 3818 Airbnbs"
   ]
  },
  {
   "cell_type": "code",
   "execution_count": 10,
   "metadata": {
    "scrolled": true
   },
   "outputs": [
    {
     "name": "stdout",
     "output_type": "stream",
     "text": [
      "<class 'pandas.core.frame.DataFrame'>\n",
      "RangeIndex: 3818 entries, 0 to 3817\n",
      "Data columns (total 92 columns):\n",
      "id                                  3818 non-null int64\n",
      "listing_url                         3818 non-null object\n",
      "scrape_id                           3818 non-null int64\n",
      "last_scraped                        3818 non-null object\n",
      "name                                3818 non-null object\n",
      "summary                             3641 non-null object\n",
      "space                               3249 non-null object\n",
      "description                         3818 non-null object\n",
      "experiences_offered                 3818 non-null object\n",
      "neighborhood_overview               2786 non-null object\n",
      "notes                               2212 non-null object\n",
      "transit                             2884 non-null object\n",
      "thumbnail_url                       3498 non-null object\n",
      "medium_url                          3498 non-null object\n",
      "picture_url                         3818 non-null object\n",
      "xl_picture_url                      3498 non-null object\n",
      "host_id                             3818 non-null int64\n",
      "host_url                            3818 non-null object\n",
      "host_name                           3816 non-null object\n",
      "host_since                          3816 non-null object\n",
      "host_location                       3810 non-null object\n",
      "host_about                          2959 non-null object\n",
      "host_response_time                  3295 non-null object\n",
      "host_response_rate                  3295 non-null object\n",
      "host_acceptance_rate                3045 non-null object\n",
      "host_is_superhost                   3816 non-null object\n",
      "host_thumbnail_url                  3816 non-null object\n",
      "host_picture_url                    3816 non-null object\n",
      "host_neighbourhood                  3518 non-null object\n",
      "host_listings_count                 3816 non-null float64\n",
      "host_total_listings_count           3816 non-null float64\n",
      "host_verifications                  3818 non-null object\n",
      "host_has_profile_pic                3816 non-null object\n",
      "host_identity_verified              3816 non-null object\n",
      "street                              3818 non-null object\n",
      "neighbourhood                       3402 non-null object\n",
      "neighbourhood_cleansed              3818 non-null object\n",
      "neighbourhood_group_cleansed        3818 non-null object\n",
      "city                                3818 non-null object\n",
      "state                               3818 non-null object\n",
      "zipcode                             3811 non-null object\n",
      "market                              3818 non-null object\n",
      "smart_location                      3818 non-null object\n",
      "country_code                        3818 non-null object\n",
      "country                             3818 non-null object\n",
      "latitude                            3818 non-null float64\n",
      "longitude                           3818 non-null float64\n",
      "is_location_exact                   3818 non-null object\n",
      "property_type                       3817 non-null object\n",
      "room_type                           3818 non-null object\n",
      "accommodates                        3818 non-null int64\n",
      "bathrooms                           3802 non-null float64\n",
      "bedrooms                            3812 non-null float64\n",
      "beds                                3817 non-null float64\n",
      "bed_type                            3818 non-null object\n",
      "amenities                           3818 non-null object\n",
      "square_feet                         97 non-null float64\n",
      "price                               3818 non-null object\n",
      "weekly_price                        2009 non-null object\n",
      "monthly_price                       1517 non-null object\n",
      "security_deposit                    1866 non-null object\n",
      "cleaning_fee                        2788 non-null object\n",
      "guests_included                     3818 non-null int64\n",
      "extra_people                        3818 non-null object\n",
      "minimum_nights                      3818 non-null int64\n",
      "maximum_nights                      3818 non-null int64\n",
      "calendar_updated                    3818 non-null object\n",
      "has_availability                    3818 non-null object\n",
      "availability_30                     3818 non-null int64\n",
      "availability_60                     3818 non-null int64\n",
      "availability_90                     3818 non-null int64\n",
      "availability_365                    3818 non-null int64\n",
      "calendar_last_scraped               3818 non-null object\n",
      "number_of_reviews                   3818 non-null int64\n",
      "first_review                        3191 non-null object\n",
      "last_review                         3191 non-null object\n",
      "review_scores_rating                3171 non-null float64\n",
      "review_scores_accuracy              3160 non-null float64\n",
      "review_scores_cleanliness           3165 non-null float64\n",
      "review_scores_checkin               3160 non-null float64\n",
      "review_scores_communication         3167 non-null float64\n",
      "review_scores_location              3163 non-null float64\n",
      "review_scores_value                 3162 non-null float64\n",
      "requires_license                    3818 non-null object\n",
      "license                             0 non-null float64\n",
      "jurisdiction_names                  3818 non-null object\n",
      "instant_bookable                    3818 non-null object\n",
      "cancellation_policy                 3818 non-null object\n",
      "require_guest_profile_picture       3818 non-null object\n",
      "require_guest_phone_verification    3818 non-null object\n",
      "calculated_host_listings_count      3818 non-null int64\n",
      "reviews_per_month                   3191 non-null float64\n",
      "dtypes: float64(17), int64(13), object(62)\n",
      "memory usage: 2.7+ MB\n"
     ]
    }
   ],
   "source": [
    "listing_df.info()"
   ]
  },
  {
   "cell_type": "code",
   "execution_count": 11,
   "metadata": {
    "scrolled": true
   },
   "outputs": [
    {
     "data": {
      "text/html": [
       "<div>\n",
       "<style scoped>\n",
       "    .dataframe tbody tr th:only-of-type {\n",
       "        vertical-align: middle;\n",
       "    }\n",
       "\n",
       "    .dataframe tbody tr th {\n",
       "        vertical-align: top;\n",
       "    }\n",
       "\n",
       "    .dataframe thead th {\n",
       "        text-align: right;\n",
       "    }\n",
       "</style>\n",
       "<table border=\"1\" class=\"dataframe\">\n",
       "  <thead>\n",
       "    <tr style=\"text-align: right;\">\n",
       "      <th></th>\n",
       "      <th>id</th>\n",
       "      <th>listing_url</th>\n",
       "      <th>scrape_id</th>\n",
       "      <th>last_scraped</th>\n",
       "      <th>name</th>\n",
       "      <th>summary</th>\n",
       "      <th>space</th>\n",
       "      <th>description</th>\n",
       "      <th>experiences_offered</th>\n",
       "      <th>neighborhood_overview</th>\n",
       "      <th>...</th>\n",
       "      <th>review_scores_value</th>\n",
       "      <th>requires_license</th>\n",
       "      <th>license</th>\n",
       "      <th>jurisdiction_names</th>\n",
       "      <th>instant_bookable</th>\n",
       "      <th>cancellation_policy</th>\n",
       "      <th>require_guest_profile_picture</th>\n",
       "      <th>require_guest_phone_verification</th>\n",
       "      <th>calculated_host_listings_count</th>\n",
       "      <th>reviews_per_month</th>\n",
       "    </tr>\n",
       "  </thead>\n",
       "  <tbody>\n",
       "    <tr>\n",
       "      <th>0</th>\n",
       "      <td>241032</td>\n",
       "      <td>https://www.airbnb.com/rooms/241032</td>\n",
       "      <td>20160104002432</td>\n",
       "      <td>2016-01-04</td>\n",
       "      <td>Stylish Queen Anne Apartment</td>\n",
       "      <td>NaN</td>\n",
       "      <td>Make your self at home in this charming one-be...</td>\n",
       "      <td>Make your self at home in this charming one-be...</td>\n",
       "      <td>none</td>\n",
       "      <td>NaN</td>\n",
       "      <td>...</td>\n",
       "      <td>10.0</td>\n",
       "      <td>f</td>\n",
       "      <td>NaN</td>\n",
       "      <td>WASHINGTON</td>\n",
       "      <td>f</td>\n",
       "      <td>moderate</td>\n",
       "      <td>f</td>\n",
       "      <td>f</td>\n",
       "      <td>2</td>\n",
       "      <td>4.07</td>\n",
       "    </tr>\n",
       "    <tr>\n",
       "      <th>1</th>\n",
       "      <td>953595</td>\n",
       "      <td>https://www.airbnb.com/rooms/953595</td>\n",
       "      <td>20160104002432</td>\n",
       "      <td>2016-01-04</td>\n",
       "      <td>Bright &amp; Airy Queen Anne Apartment</td>\n",
       "      <td>Chemically sensitive? We've removed the irrita...</td>\n",
       "      <td>Beautiful, hypoallergenic apartment in an extr...</td>\n",
       "      <td>Chemically sensitive? We've removed the irrita...</td>\n",
       "      <td>none</td>\n",
       "      <td>Queen Anne is a wonderful, truly functional vi...</td>\n",
       "      <td>...</td>\n",
       "      <td>10.0</td>\n",
       "      <td>f</td>\n",
       "      <td>NaN</td>\n",
       "      <td>WASHINGTON</td>\n",
       "      <td>f</td>\n",
       "      <td>strict</td>\n",
       "      <td>t</td>\n",
       "      <td>t</td>\n",
       "      <td>6</td>\n",
       "      <td>1.48</td>\n",
       "    </tr>\n",
       "    <tr>\n",
       "      <th>2</th>\n",
       "      <td>3308979</td>\n",
       "      <td>https://www.airbnb.com/rooms/3308979</td>\n",
       "      <td>20160104002432</td>\n",
       "      <td>2016-01-04</td>\n",
       "      <td>New Modern House-Amazing water view</td>\n",
       "      <td>New modern house built in 2013.  Spectacular s...</td>\n",
       "      <td>Our house is modern, light and fresh with a wa...</td>\n",
       "      <td>New modern house built in 2013.  Spectacular s...</td>\n",
       "      <td>none</td>\n",
       "      <td>Upper Queen Anne is a charming neighborhood fu...</td>\n",
       "      <td>...</td>\n",
       "      <td>10.0</td>\n",
       "      <td>f</td>\n",
       "      <td>NaN</td>\n",
       "      <td>WASHINGTON</td>\n",
       "      <td>f</td>\n",
       "      <td>strict</td>\n",
       "      <td>f</td>\n",
       "      <td>f</td>\n",
       "      <td>2</td>\n",
       "      <td>1.15</td>\n",
       "    </tr>\n",
       "    <tr>\n",
       "      <th>3</th>\n",
       "      <td>7421966</td>\n",
       "      <td>https://www.airbnb.com/rooms/7421966</td>\n",
       "      <td>20160104002432</td>\n",
       "      <td>2016-01-04</td>\n",
       "      <td>Queen Anne Chateau</td>\n",
       "      <td>A charming apartment that sits atop Queen Anne...</td>\n",
       "      <td>NaN</td>\n",
       "      <td>A charming apartment that sits atop Queen Anne...</td>\n",
       "      <td>none</td>\n",
       "      <td>NaN</td>\n",
       "      <td>...</td>\n",
       "      <td>NaN</td>\n",
       "      <td>f</td>\n",
       "      <td>NaN</td>\n",
       "      <td>WASHINGTON</td>\n",
       "      <td>f</td>\n",
       "      <td>flexible</td>\n",
       "      <td>f</td>\n",
       "      <td>f</td>\n",
       "      <td>1</td>\n",
       "      <td>NaN</td>\n",
       "    </tr>\n",
       "    <tr>\n",
       "      <th>4</th>\n",
       "      <td>278830</td>\n",
       "      <td>https://www.airbnb.com/rooms/278830</td>\n",
       "      <td>20160104002432</td>\n",
       "      <td>2016-01-04</td>\n",
       "      <td>Charming craftsman 3 bdm house</td>\n",
       "      <td>Cozy family craftman house in beautiful neighb...</td>\n",
       "      <td>Cozy family craftman house in beautiful neighb...</td>\n",
       "      <td>Cozy family craftman house in beautiful neighb...</td>\n",
       "      <td>none</td>\n",
       "      <td>We are in the beautiful neighborhood of Queen ...</td>\n",
       "      <td>...</td>\n",
       "      <td>9.0</td>\n",
       "      <td>f</td>\n",
       "      <td>NaN</td>\n",
       "      <td>WASHINGTON</td>\n",
       "      <td>f</td>\n",
       "      <td>strict</td>\n",
       "      <td>f</td>\n",
       "      <td>f</td>\n",
       "      <td>1</td>\n",
       "      <td>0.89</td>\n",
       "    </tr>\n",
       "  </tbody>\n",
       "</table>\n",
       "<p>5 rows × 92 columns</p>\n",
       "</div>"
      ],
      "text/plain": [
       "        id                           listing_url       scrape_id last_scraped  \\\n",
       "0   241032   https://www.airbnb.com/rooms/241032  20160104002432   2016-01-04   \n",
       "1   953595   https://www.airbnb.com/rooms/953595  20160104002432   2016-01-04   \n",
       "2  3308979  https://www.airbnb.com/rooms/3308979  20160104002432   2016-01-04   \n",
       "3  7421966  https://www.airbnb.com/rooms/7421966  20160104002432   2016-01-04   \n",
       "4   278830   https://www.airbnb.com/rooms/278830  20160104002432   2016-01-04   \n",
       "\n",
       "                                  name  \\\n",
       "0         Stylish Queen Anne Apartment   \n",
       "1   Bright & Airy Queen Anne Apartment   \n",
       "2  New Modern House-Amazing water view   \n",
       "3                   Queen Anne Chateau   \n",
       "4       Charming craftsman 3 bdm house   \n",
       "\n",
       "                                             summary  \\\n",
       "0                                                NaN   \n",
       "1  Chemically sensitive? We've removed the irrita...   \n",
       "2  New modern house built in 2013.  Spectacular s...   \n",
       "3  A charming apartment that sits atop Queen Anne...   \n",
       "4  Cozy family craftman house in beautiful neighb...   \n",
       "\n",
       "                                               space  \\\n",
       "0  Make your self at home in this charming one-be...   \n",
       "1  Beautiful, hypoallergenic apartment in an extr...   \n",
       "2  Our house is modern, light and fresh with a wa...   \n",
       "3                                                NaN   \n",
       "4  Cozy family craftman house in beautiful neighb...   \n",
       "\n",
       "                                         description experiences_offered  \\\n",
       "0  Make your self at home in this charming one-be...                none   \n",
       "1  Chemically sensitive? We've removed the irrita...                none   \n",
       "2  New modern house built in 2013.  Spectacular s...                none   \n",
       "3  A charming apartment that sits atop Queen Anne...                none   \n",
       "4  Cozy family craftman house in beautiful neighb...                none   \n",
       "\n",
       "                               neighborhood_overview  ... review_scores_value  \\\n",
       "0                                                NaN  ...                10.0   \n",
       "1  Queen Anne is a wonderful, truly functional vi...  ...                10.0   \n",
       "2  Upper Queen Anne is a charming neighborhood fu...  ...                10.0   \n",
       "3                                                NaN  ...                 NaN   \n",
       "4  We are in the beautiful neighborhood of Queen ...  ...                 9.0   \n",
       "\n",
       "  requires_license license jurisdiction_names instant_bookable  \\\n",
       "0                f     NaN         WASHINGTON                f   \n",
       "1                f     NaN         WASHINGTON                f   \n",
       "2                f     NaN         WASHINGTON                f   \n",
       "3                f     NaN         WASHINGTON                f   \n",
       "4                f     NaN         WASHINGTON                f   \n",
       "\n",
       "  cancellation_policy  require_guest_profile_picture  \\\n",
       "0            moderate                              f   \n",
       "1              strict                              t   \n",
       "2              strict                              f   \n",
       "3            flexible                              f   \n",
       "4              strict                              f   \n",
       "\n",
       "  require_guest_phone_verification calculated_host_listings_count  \\\n",
       "0                                f                              2   \n",
       "1                                t                              6   \n",
       "2                                f                              2   \n",
       "3                                f                              1   \n",
       "4                                f                              1   \n",
       "\n",
       "  reviews_per_month  \n",
       "0              4.07  \n",
       "1              1.48  \n",
       "2              1.15  \n",
       "3               NaN  \n",
       "4              0.89  \n",
       "\n",
       "[5 rows x 92 columns]"
      ]
     },
     "execution_count": 11,
     "metadata": {},
     "output_type": "execute_result"
    }
   ],
   "source": [
    "listing_df.head(5)"
   ]
  },
  {
   "cell_type": "markdown",
   "metadata": {},
   "source": [
    "There is more information contained in the listing csv, like the details about the Airbnb description, the host, the neighborhood and the review scores, I'll mainly use this file for analysis."
   ]
  },
  {
   "cell_type": "code",
   "execution_count": 12,
   "metadata": {},
   "outputs": [
    {
     "name": "stdout",
     "output_type": "stream",
     "text": [
      "<class 'pandas.core.frame.DataFrame'>\n",
      "RangeIndex: 84849 entries, 0 to 84848\n",
      "Data columns (total 6 columns):\n",
      "listing_id       84849 non-null int64\n",
      "id               84849 non-null int64\n",
      "date             84849 non-null object\n",
      "reviewer_id      84849 non-null int64\n",
      "reviewer_name    84849 non-null object\n",
      "comments         84831 non-null object\n",
      "dtypes: int64(3), object(3)\n",
      "memory usage: 3.9+ MB\n"
     ]
    }
   ],
   "source": [
    "review_df.info()"
   ]
  },
  {
   "cell_type": "markdown",
   "metadata": {},
   "source": [
    "There are detailed review comments in this file."
   ]
  },
  {
   "cell_type": "markdown",
   "metadata": {},
   "source": [
    "# Data Clean"
   ]
  },
  {
   "cell_type": "markdown",
   "metadata": {},
   "source": [
    "I'm interested in the location,prices and review data in the csv. No missing data for location but some missing for cleaning fee. Missing data might not matter too much fore review/rating score data if we take average of them."
   ]
  },
  {
   "cell_type": "markdown",
   "metadata": {},
   "source": [
    "I want to impute the missing data in cleaning fee here with average."
   ]
  },
  {
   "cell_type": "code",
   "execution_count": 45,
   "metadata": {},
   "outputs": [],
   "source": [
    "pd.set_option('mode.chained_assignment', None)\n",
    "\n",
    "# change the data type of the price column\n",
    "listing_df['price'] = listing_df['price'].replace('[\\$,]', '', regex=True).astype(float)\n",
    "listing_df['cleaning_fee'] = listing_df['cleaning_fee'].replace('[\\$,]', '', regex=True).astype(float) \n",
    "\n",
    "# For some columns, the cleaning fee value is missing, so calculate the average ratio of cleaning fee/price here\n",
    "\n",
    "listing_df['cleaning_fee_ratio'] = listing_df['cleaning_fee']/listing_df['price']\n",
    "c = listing_df['cleaning_fee_ratio'] .mean()\n",
    "\n",
    "# the raio is about 42%, so we are using this to impute the missing value\n",
    "\n",
    "listing_df.loc[listing_df['cleaning_fee'].isna() == True,'cleaning_fee'] = listing_df['price']*c"
   ]
  },
  {
   "cell_type": "markdown",
   "metadata": {},
   "source": [
    "# Data Analyze and Visualize"
   ]
  },
  {
   "cell_type": "markdown",
   "metadata": {},
   "source": [
    "### Question 1: If a couple wants to stay in a entire apartment or house, which neighborhood group would most people pick? (Assuming the number of reviews represents for the number of bookings)"
   ]
  },
  {
   "cell_type": "markdown",
   "metadata": {},
   "source": [
    "I want to take a look at how many airbnb reviews each neighborhood group has."
   ]
  },
  {
   "cell_type": "code",
   "execution_count": 17,
   "metadata": {
    "scrolled": true
   },
   "outputs": [],
   "source": [
    "list_df = listing_df[(listing_df['accommodates'] ==2)&(listing_df['room_type'] =='Entire home/apt')] \n",
    "pop_area = list_df.groupby(['neighbourhood_group_cleansed'])['number_of_reviews'].sum().sort_values(ascending = False)\n",
    "\n",
    "# I picked neighborhood group because it's easy for tourists to understand seattle neighborhood in a high level"
   ]
  },
  {
   "cell_type": "code",
   "execution_count": 18,
   "metadata": {
    "scrolled": true
   },
   "outputs": [],
   "source": [
    "pop_df = pd.DataFrame(pop_area).reset_index().head(10)"
   ]
  },
  {
   "cell_type": "code",
   "execution_count": 19,
   "metadata": {
    "scrolled": true
   },
   "outputs": [
    {
     "data": {
      "text/html": [
       "<div>\n",
       "<style scoped>\n",
       "    .dataframe tbody tr th:only-of-type {\n",
       "        vertical-align: middle;\n",
       "    }\n",
       "\n",
       "    .dataframe tbody tr th {\n",
       "        vertical-align: top;\n",
       "    }\n",
       "\n",
       "    .dataframe thead th {\n",
       "        text-align: right;\n",
       "    }\n",
       "</style>\n",
       "<table border=\"1\" class=\"dataframe\">\n",
       "  <thead>\n",
       "    <tr style=\"text-align: right;\">\n",
       "      <th></th>\n",
       "      <th>neighbourhood_group_cleansed</th>\n",
       "      <th>number_of_reviews</th>\n",
       "    </tr>\n",
       "  </thead>\n",
       "  <tbody>\n",
       "    <tr>\n",
       "      <th>0</th>\n",
       "      <td>Capitol Hill</td>\n",
       "      <td>3345</td>\n",
       "    </tr>\n",
       "    <tr>\n",
       "      <th>1</th>\n",
       "      <td>Other neighborhoods</td>\n",
       "      <td>2958</td>\n",
       "    </tr>\n",
       "    <tr>\n",
       "      <th>2</th>\n",
       "      <td>Downtown</td>\n",
       "      <td>2356</td>\n",
       "    </tr>\n",
       "    <tr>\n",
       "      <th>3</th>\n",
       "      <td>Ballard</td>\n",
       "      <td>1850</td>\n",
       "    </tr>\n",
       "    <tr>\n",
       "      <th>4</th>\n",
       "      <td>Queen Anne</td>\n",
       "      <td>1746</td>\n",
       "    </tr>\n",
       "    <tr>\n",
       "      <th>5</th>\n",
       "      <td>Central Area</td>\n",
       "      <td>1729</td>\n",
       "    </tr>\n",
       "    <tr>\n",
       "      <th>6</th>\n",
       "      <td>Rainier Valley</td>\n",
       "      <td>827</td>\n",
       "    </tr>\n",
       "    <tr>\n",
       "      <th>7</th>\n",
       "      <td>West Seattle</td>\n",
       "      <td>644</td>\n",
       "    </tr>\n",
       "    <tr>\n",
       "      <th>8</th>\n",
       "      <td>Delridge</td>\n",
       "      <td>589</td>\n",
       "    </tr>\n",
       "    <tr>\n",
       "      <th>9</th>\n",
       "      <td>Cascade</td>\n",
       "      <td>549</td>\n",
       "    </tr>\n",
       "  </tbody>\n",
       "</table>\n",
       "</div>"
      ],
      "text/plain": [
       "  neighbourhood_group_cleansed  number_of_reviews\n",
       "0                 Capitol Hill               3345\n",
       "1          Other neighborhoods               2958\n",
       "2                     Downtown               2356\n",
       "3                      Ballard               1850\n",
       "4                   Queen Anne               1746\n",
       "5                 Central Area               1729\n",
       "6               Rainier Valley                827\n",
       "7                 West Seattle                644\n",
       "8                     Delridge                589\n",
       "9                      Cascade                549"
      ]
     },
     "execution_count": 19,
     "metadata": {},
     "output_type": "execute_result"
    }
   ],
   "source": [
    "pop_df"
   ]
  },
  {
   "cell_type": "markdown",
   "metadata": {},
   "source": [
    "Visualize the data to make it more clear "
   ]
  },
  {
   "cell_type": "code",
   "execution_count": 43,
   "metadata": {},
   "outputs": [
    {
     "data": {
      "text/plain": [
       "[Text(0, 0, 'Capitol Hill'),\n",
       " Text(0, 0, 'Other neighborhoods'),\n",
       " Text(0, 0, 'Downtown'),\n",
       " Text(0, 0, 'Ballard'),\n",
       " Text(0, 0, 'Queen Anne'),\n",
       " Text(0, 0, 'Central Area'),\n",
       " Text(0, 0, 'Rainier Valley'),\n",
       " Text(0, 0, 'West Seattle'),\n",
       " Text(0, 0, 'Delridge'),\n",
       " Text(0, 0, 'Cascade')]"
      ]
     },
     "execution_count": 43,
     "metadata": {},
     "output_type": "execute_result"
    },
    {
     "data": {
      "image/png": "[encoded data removed]",
      "text/plain": [
       "<Figure size 1296x720 with 1 Axes>"
      ]
     },
     "metadata": {},
     "output_type": "display_data"
    }
   ],
   "source": [
    "# Making plots with seaborn and matplotlib\n",
    "\n",
    "import seaborn as sns\n",
    "import matplotlib.pyplot as plt\n",
    "\n",
    "sns.set(font_scale = 1.5)\n",
    "\n",
    "pop_plot = sns.barplot(\n",
    "    data= pop_df,\n",
    "    x= 'neighbourhood_group_cleansed',\n",
    "    y= 'number_of_reviews')\n",
    "\n",
    "pop_plot.figure.set_size_inches(18,10)\n",
    "pop_plot.set(xlabel='Neighborhood Group', ylabel='Number of Reviews')\n",
    "\n",
    "pop_plot.set_xticklabels(pop_plot.get_xticklabels(), rotation=30, horizontalalignment='right')"
   ]
  },
  {
   "cell_type": "markdown",
   "metadata": {},
   "source": [
    "Conclusion:\n",
    "\n",
    "Top3 popular neighborhood groups would be Capitol Hill, Downtown and Ballard"
   ]
  },
  {
   "cell_type": "markdown",
   "metadata": {},
   "source": [
    "### Question 2: What should the couple expect about the price range of the airbnbs in the popular neighrborhoods if they wants to stay for a long weekend?"
   ]
  },
  {
   "cell_type": "markdown",
   "metadata": {},
   "source": [
    "First, we need to do some data transformation and filtering"
   ]
  },
  {
   "cell_type": "code",
   "execution_count": 26,
   "metadata": {},
   "outputs": [],
   "source": [
    "#filter the available options\n",
    "list_df2 = list_df1[(list_df1['minimum_nights']<4)&(list_df1['host_acceptance_rate'] == \"100%\")]"
   ]
  },
  {
   "cell_type": "code",
   "execution_count": 27,
   "metadata": {},
   "outputs": [],
   "source": [
    "# total price = price * 2 + cleaning fee\n",
    "list_df2['weekend_total'] = list_df2['price']*3 + list_df2['cleaning_fee']"
   ]
  },
  {
   "cell_type": "code",
   "execution_count": 28,
   "metadata": {},
   "outputs": [],
   "source": [
    "# summary for the price range\n",
    "# Here I picked neighbourhood itself instead of neighborhood group because we want to know more about detailed level\n",
    "\n",
    "weekend_min = list_df2.groupby(['neighbourhood_cleansed'])['weekend_total'].min().rename('Min_price')\n",
    "weekend_avg = list_df2.groupby(['neighbourhood_cleansed'])['weekend_total'].mean().rename('Mean_price')\n",
    "weekend_max = list_df2.groupby(['neighbourhood_cleansed'])['weekend_total'].max().rename('Max_price')\n",
    "Avaliable_options = list_df2.groupby(['neighbourhood_cleansed'])['weekend_total'].count().rename('Availiable_options')"
   ]
  },
  {
   "cell_type": "code",
   "execution_count": 29,
   "metadata": {
    "scrolled": true
   },
   "outputs": [],
   "source": [
    "# Take a look at the summary of the price range and availiable options\n",
    "\n",
    "list_df3 = pd.concat([weekend_min,weekend_avg,weekend_max,Avaliable_options],axis=1)\n",
    "list_df4 = list_df3.sort_values('Availiable_options',ascending=False).reset_index()"
   ]
  },
  {
   "cell_type": "code",
   "execution_count": 30,
   "metadata": {
    "scrolled": true
   },
   "outputs": [
    {
     "data": {
      "text/html": [
       "<div>\n",
       "<style scoped>\n",
       "    .dataframe tbody tr th:only-of-type {\n",
       "        vertical-align: middle;\n",
       "    }\n",
       "\n",
       "    .dataframe tbody tr th {\n",
       "        vertical-align: top;\n",
       "    }\n",
       "\n",
       "    .dataframe thead th {\n",
       "        text-align: right;\n",
       "    }\n",
       "</style>\n",
       "<table border=\"1\" class=\"dataframe\">\n",
       "  <thead>\n",
       "    <tr style=\"text-align: right;\">\n",
       "      <th></th>\n",
       "      <th>neighbourhood_cleansed</th>\n",
       "      <th>Min_price</th>\n",
       "      <th>Mean_price</th>\n",
       "      <th>Max_price</th>\n",
       "      <th>Availiable_options</th>\n",
       "    </tr>\n",
       "  </thead>\n",
       "  <tbody>\n",
       "    <tr>\n",
       "      <th>0</th>\n",
       "      <td>Broadway</td>\n",
       "      <td>192.000000</td>\n",
       "      <td>352.236386</td>\n",
       "      <td>866.853865</td>\n",
       "      <td>92</td>\n",
       "    </tr>\n",
       "    <tr>\n",
       "      <th>1</th>\n",
       "      <td>Belltown</td>\n",
       "      <td>235.000000</td>\n",
       "      <td>428.346392</td>\n",
       "      <td>630.000000</td>\n",
       "      <td>41</td>\n",
       "    </tr>\n",
       "    <tr>\n",
       "      <th>2</th>\n",
       "      <td>First Hill</td>\n",
       "      <td>245.000000</td>\n",
       "      <td>417.393249</td>\n",
       "      <td>625.000000</td>\n",
       "      <td>20</td>\n",
       "    </tr>\n",
       "    <tr>\n",
       "      <th>3</th>\n",
       "      <td>Stevens</td>\n",
       "      <td>187.000000</td>\n",
       "      <td>373.794307</td>\n",
       "      <td>693.483092</td>\n",
       "      <td>17</td>\n",
       "    </tr>\n",
       "    <tr>\n",
       "      <th>4</th>\n",
       "      <td>Adams</td>\n",
       "      <td>247.000000</td>\n",
       "      <td>373.221271</td>\n",
       "      <td>575.000000</td>\n",
       "      <td>15</td>\n",
       "    </tr>\n",
       "    <tr>\n",
       "      <th>5</th>\n",
       "      <td>Central Business District</td>\n",
       "      <td>204.577512</td>\n",
       "      <td>442.380215</td>\n",
       "      <td>1040.224638</td>\n",
       "      <td>10</td>\n",
       "    </tr>\n",
       "    <tr>\n",
       "      <th>6</th>\n",
       "      <td>Loyal Heights</td>\n",
       "      <td>225.382005</td>\n",
       "      <td>300.160290</td>\n",
       "      <td>414.000000</td>\n",
       "      <td>9</td>\n",
       "    </tr>\n",
       "    <tr>\n",
       "      <th>7</th>\n",
       "      <td>West Woodland</td>\n",
       "      <td>260.056160</td>\n",
       "      <td>349.981046</td>\n",
       "      <td>497.000000</td>\n",
       "      <td>7</td>\n",
       "    </tr>\n",
       "    <tr>\n",
       "      <th>8</th>\n",
       "      <td>Pioneer Square</td>\n",
       "      <td>230.000000</td>\n",
       "      <td>552.794531</td>\n",
       "      <td>850.000000</td>\n",
       "      <td>7</td>\n",
       "    </tr>\n",
       "    <tr>\n",
       "      <th>9</th>\n",
       "      <td>Pike-Market</td>\n",
       "      <td>310.000000</td>\n",
       "      <td>426.342303</td>\n",
       "      <td>620.667368</td>\n",
       "      <td>6</td>\n",
       "    </tr>\n",
       "    <tr>\n",
       "      <th>10</th>\n",
       "      <td>Whittier Heights</td>\n",
       "      <td>280.000000</td>\n",
       "      <td>398.879022</td>\n",
       "      <td>530.000000</td>\n",
       "      <td>6</td>\n",
       "    </tr>\n",
       "    <tr>\n",
       "      <th>11</th>\n",
       "      <td>International District</td>\n",
       "      <td>220.000000</td>\n",
       "      <td>273.447174</td>\n",
       "      <td>343.274131</td>\n",
       "      <td>4</td>\n",
       "    </tr>\n",
       "    <tr>\n",
       "      <th>12</th>\n",
       "      <td>Madison Park</td>\n",
       "      <td>410.000000</td>\n",
       "      <td>504.250000</td>\n",
       "      <td>700.000000</td>\n",
       "      <td>4</td>\n",
       "    </tr>\n",
       "    <tr>\n",
       "      <th>13</th>\n",
       "      <td>Montlake</td>\n",
       "      <td>308.599976</td>\n",
       "      <td>367.866659</td>\n",
       "      <td>415.000000</td>\n",
       "      <td>3</td>\n",
       "    </tr>\n",
       "    <tr>\n",
       "      <th>14</th>\n",
       "      <td>Yesler Terrace</td>\n",
       "      <td>346.741546</td>\n",
       "      <td>417.393237</td>\n",
       "      <td>485.438165</td>\n",
       "      <td>3</td>\n",
       "    </tr>\n",
       "    <tr>\n",
       "      <th>15</th>\n",
       "      <td>Sunset Hill</td>\n",
       "      <td>294.730314</td>\n",
       "      <td>294.730314</td>\n",
       "      <td>294.730314</td>\n",
       "      <td>1</td>\n",
       "    </tr>\n",
       "    <tr>\n",
       "      <th>16</th>\n",
       "      <td>Portage Bay</td>\n",
       "      <td>468.101087</td>\n",
       "      <td>468.101087</td>\n",
       "      <td>468.101087</td>\n",
       "      <td>1</td>\n",
       "    </tr>\n",
       "  </tbody>\n",
       "</table>\n",
       "</div>"
      ],
      "text/plain": [
       "       neighbourhood_cleansed   Min_price  Mean_price    Max_price  \\\n",
       "0                    Broadway  192.000000  352.236386   866.853865   \n",
       "1                    Belltown  235.000000  428.346392   630.000000   \n",
       "2                  First Hill  245.000000  417.393249   625.000000   \n",
       "3                     Stevens  187.000000  373.794307   693.483092   \n",
       "4                       Adams  247.000000  373.221271   575.000000   \n",
       "5   Central Business District  204.577512  442.380215  1040.224638   \n",
       "6               Loyal Heights  225.382005  300.160290   414.000000   \n",
       "7               West Woodland  260.056160  349.981046   497.000000   \n",
       "8              Pioneer Square  230.000000  552.794531   850.000000   \n",
       "9                 Pike-Market  310.000000  426.342303   620.667368   \n",
       "10           Whittier Heights  280.000000  398.879022   530.000000   \n",
       "11     International District  220.000000  273.447174   343.274131   \n",
       "12               Madison Park  410.000000  504.250000   700.000000   \n",
       "13                   Montlake  308.599976  367.866659   415.000000   \n",
       "14             Yesler Terrace  346.741546  417.393237   485.438165   \n",
       "15                Sunset Hill  294.730314  294.730314   294.730314   \n",
       "16                Portage Bay  468.101087  468.101087   468.101087   \n",
       "\n",
       "    Availiable_options  \n",
       "0                   92  \n",
       "1                   41  \n",
       "2                   20  \n",
       "3                   17  \n",
       "4                   15  \n",
       "5                   10  \n",
       "6                    9  \n",
       "7                    7  \n",
       "8                    7  \n",
       "9                    6  \n",
       "10                   6  \n",
       "11                   4  \n",
       "12                   4  \n",
       "13                   3  \n",
       "14                   3  \n",
       "15                   1  \n",
       "16                   1  "
      ]
     },
     "execution_count": 30,
     "metadata": {},
     "output_type": "execute_result"
    }
   ],
   "source": [
    "list_df4"
   ]
  },
  {
   "cell_type": "markdown",
   "metadata": {},
   "source": [
    "Here we see there are only few options in some neighboorhood, in order to provide visitors more options to choose\n",
    "Let's filter to the neighboors that at least have 10 airbnb options"
   ]
  },
  {
   "cell_type": "code",
   "execution_count": 47,
   "metadata": {},
   "outputs": [],
   "source": [
    "filtered_neighbor = list_df4[list_df4['Availiable_options'] >9]['neighbourhood_cleansed']\n",
    "list_df5 = list_df2[list_df2['neighbourhood_cleansed'].isin(filtered_neighbor)]"
   ]
  },
  {
   "cell_type": "markdown",
   "metadata": {},
   "source": [
    "We want to boxplot the distribution of the prices for different neighborhoods."
   ]
  },
  {
   "cell_type": "code",
   "execution_count": 32,
   "metadata": {},
   "outputs": [
    {
     "data": {
      "text/plain": [
       "[Text(0, 0, 'Adams'),\n",
       " Text(0, 0, 'Belltown'),\n",
       " Text(0, 0, 'Central Business District'),\n",
       " Text(0, 0, 'First Hill'),\n",
       " Text(0, 0, 'Broadway'),\n",
       " Text(0, 0, 'Stevens')]"
      ]
     },
     "execution_count": 32,
     "metadata": {},
     "output_type": "execute_result"
    },
    {
     "data": {
      "image/png": "[encoded data removed]",
      "text/plain": [
       "<Figure size 1296x720 with 1 Axes>"
      ]
     },
     "metadata": {},
     "output_type": "display_data"
    }
   ],
   "source": [
    "import seaborn as sns\n",
    "import matplotlib.pyplot as plt\n",
    "sns.set(font_scale = 1.5)\n",
    "\n",
    "neigh_plt = sns.boxplot(x=\"neighbourhood_cleansed\",\n",
    "                            y=\"weekend_total\",\n",
    "                            data=list_df5)\n",
    "\n",
    "neigh_plt.figure.set_size_inches(18,10)\n",
    "neigh_plt.set(xlabel='Seattle Neighborhoods', ylabel='Total Price')\n",
    "\n",
    "neigh_plt.set_xticklabels(neigh_plt.get_xticklabels(), rotation=30, horizontalalignment='right')"
   ]
  },
  {
   "cell_type": "markdown",
   "metadata": {},
   "source": [
    "Conclusion: \n",
    "\n",
    "The couple should expect the price range of staying in the major neighborhoods to be 200 - 600 dollars."
   ]
  },
  {
   "cell_type": "markdown",
   "metadata": {},
   "source": [
    "### Question 3: How did the price of the Airbnb impact customer experience?"
   ]
  },
  {
   "cell_type": "markdown",
   "metadata": {},
   "source": [
    "I want to create price groups and calculate the average ratings for 6 different dimensions(accuracy, cleanliness, checkin,communication,location,value)."
   ]
  },
  {
   "cell_type": "code",
   "execution_count": 67,
   "metadata": {},
   "outputs": [
    {
     "data": {
      "text/plain": [
       "0.25    294.730314\n",
       "0.50    364.078623\n",
       "0.75    462.000000\n",
       "Name: weekend_total, dtype: float64"
      ]
     },
     "execution_count": 67,
     "metadata": {},
     "output_type": "execute_result"
    }
   ],
   "source": [
    "# Get the price dist\n",
    "list_df5['weekend_total'].quantile([0.25,0.5,0.75])"
   ]
  },
  {
   "cell_type": "code",
   "execution_count": 68,
   "metadata": {},
   "outputs": [],
   "source": [
    "# bucket the price to quantiles\n",
    "bins = [0,292,360,460,1000]\n",
    "list_df5['price_group'] = pd.cut(list_df5['weekend_total'], bins)"
   ]
  },
  {
   "cell_type": "markdown",
   "metadata": {},
   "source": [
    "Create a table for summary results"
   ]
  },
  {
   "cell_type": "code",
   "execution_count": 88,
   "metadata": {},
   "outputs": [],
   "source": [
    "avg_table = pd.DataFrame()"
   ]
  },
  {
   "cell_type": "code",
   "execution_count": 89,
   "metadata": {},
   "outputs": [],
   "source": [
    "def avg_score(column_name,group_by):\n",
    "    '''\n",
    "    This function helps you to calculate the average rating scores among certain groups.\n",
    "    Input: your column name and group by which column\n",
    "    Output: a panda series with the average rating scores by different groups\n",
    "    '''\n",
    "    avg_table['avg_'+column_name] = list_df5.groupby([group_by])[column_name].mean()"
   ]
  },
  {
   "cell_type": "code",
   "execution_count": 90,
   "metadata": {
    "scrolled": true
   },
   "outputs": [],
   "source": [
    "for columns in ['review_scores_rating','review_scores_accuracy','review_scores_cleanliness','review_scores_checkin','review_scores_communication','review_scores_location','review_scores_value']:\n",
    "    avg_score(columns,'price_group')\n"
   ]
  },
  {
   "cell_type": "code",
   "execution_count": 94,
   "metadata": {},
   "outputs": [
    {
     "data": {
      "text/html": [
       "<div>\n",
       "<style scoped>\n",
       "    .dataframe tbody tr th:only-of-type {\n",
       "        vertical-align: middle;\n",
       "    }\n",
       "\n",
       "    .dataframe tbody tr th {\n",
       "        vertical-align: top;\n",
       "    }\n",
       "\n",
       "    .dataframe thead th {\n",
       "        text-align: right;\n",
       "    }\n",
       "</style>\n",
       "<table border=\"1\" class=\"dataframe\">\n",
       "  <thead>\n",
       "    <tr style=\"text-align: right;\">\n",
       "      <th></th>\n",
       "      <th>avg_review_scores_rating</th>\n",
       "      <th>avg_review_scores_accuracy</th>\n",
       "      <th>avg_review_scores_cleanliness</th>\n",
       "      <th>avg_review_scores_checkin</th>\n",
       "      <th>avg_review_scores_communication</th>\n",
       "      <th>avg_review_scores_location</th>\n",
       "      <th>avg_review_scores_value</th>\n",
       "    </tr>\n",
       "    <tr>\n",
       "      <th>price_group</th>\n",
       "      <th></th>\n",
       "      <th></th>\n",
       "      <th></th>\n",
       "      <th></th>\n",
       "      <th></th>\n",
       "      <th></th>\n",
       "      <th></th>\n",
       "    </tr>\n",
       "  </thead>\n",
       "  <tbody>\n",
       "    <tr>\n",
       "      <th>(0, 292]</th>\n",
       "      <td>91.487179</td>\n",
       "      <td>9.051282</td>\n",
       "      <td>9.358974</td>\n",
       "      <td>9.666667</td>\n",
       "      <td>9.769231</td>\n",
       "      <td>9.820513</td>\n",
       "      <td>9.333333</td>\n",
       "    </tr>\n",
       "    <tr>\n",
       "      <th>(292, 360]</th>\n",
       "      <td>95.400000</td>\n",
       "      <td>9.800000</td>\n",
       "      <td>9.550000</td>\n",
       "      <td>9.900000</td>\n",
       "      <td>9.875000</td>\n",
       "      <td>9.875000</td>\n",
       "      <td>9.575000</td>\n",
       "    </tr>\n",
       "    <tr>\n",
       "      <th>(360, 460]</th>\n",
       "      <td>91.808511</td>\n",
       "      <td>9.425532</td>\n",
       "      <td>9.404255</td>\n",
       "      <td>9.638298</td>\n",
       "      <td>9.574468</td>\n",
       "      <td>9.787234</td>\n",
       "      <td>9.212766</td>\n",
       "    </tr>\n",
       "    <tr>\n",
       "      <th>(460, 1000]</th>\n",
       "      <td>95.108696</td>\n",
       "      <td>9.652174</td>\n",
       "      <td>9.695652</td>\n",
       "      <td>9.891304</td>\n",
       "      <td>9.956522</td>\n",
       "      <td>9.913043</td>\n",
       "      <td>9.326087</td>\n",
       "    </tr>\n",
       "  </tbody>\n",
       "</table>\n",
       "</div>"
      ],
      "text/plain": [
       "             avg_review_scores_rating  avg_review_scores_accuracy  \\\n",
       "price_group                                                         \n",
       "(0, 292]                    91.487179                    9.051282   \n",
       "(292, 360]                  95.400000                    9.800000   \n",
       "(360, 460]                  91.808511                    9.425532   \n",
       "(460, 1000]                 95.108696                    9.652174   \n",
       "\n",
       "             avg_review_scores_cleanliness  avg_review_scores_checkin  \\\n",
       "price_group                                                             \n",
       "(0, 292]                          9.358974                   9.666667   \n",
       "(292, 360]                        9.550000                   9.900000   \n",
       "(360, 460]                        9.404255                   9.638298   \n",
       "(460, 1000]                       9.695652                   9.891304   \n",
       "\n",
       "             avg_review_scores_communication  avg_review_scores_location  \\\n",
       "price_group                                                                \n",
       "(0, 292]                            9.769231                    9.820513   \n",
       "(292, 360]                          9.875000                    9.875000   \n",
       "(360, 460]                          9.574468                    9.787234   \n",
       "(460, 1000]                         9.956522                    9.913043   \n",
       "\n",
       "             avg_review_scores_value  \n",
       "price_group                           \n",
       "(0, 292]                    9.333333  \n",
       "(292, 360]                  9.575000  \n",
       "(360, 460]                  9.212766  \n",
       "(460, 1000]                 9.326087  "
      ]
     },
     "execution_count": 94,
     "metadata": {},
     "output_type": "execute_result"
    }
   ],
   "source": [
    "avg_table"
   ]
  },
  {
   "cell_type": "code",
   "execution_count": 95,
   "metadata": {},
   "outputs": [],
   "source": [
    "# Output to excel to highlight some numbers.\n",
    "\n",
    "avg_table.to_excel('./Data/ratings.xlsx')"
   ]
  },
  {
   "cell_type": "markdown",
   "metadata": {},
   "source": [
    "Conclusion:\n",
    "\n",
    "paying more than 292 makes a difference on the accuracy and cleanliness, but wouldn't necessarily impact the checkin, communication, and location\n",
    "paying more than 360 might not be worth it since the previous customer thought it wasn't worth the value\n",
    "overall customers paying between 292 and 360 are happiest about the airbnb."
   ]
  },
  {
   "cell_type": "code",
   "execution_count": null,
   "metadata": {},
   "outputs": [],
   "source": []
  }
 ],
 "metadata": {
  "interpreter": {
   "hash": "2f1a09390ad4e03e5b73abeef6483d49c253bb694de91b208a95cd807a1deb5f"
  },
  "kernelspec": {
   "display_name": "Python 3",
   "language": "python",
   "name": "python3"
  },
  "language_info": {
   "codemirror_mode": {
    "name": "ipython",
    "version": 3
   },
   "file_extension": ".py",
   "mimetype": "text/x-python",
   "name": "python",
   "nbconvert_exporter": "python",
   "pygments_lexer": "ipython3",
   "version": "3.7.3"
  }
 },
 "nbformat": 4,
 "nbformat_minor": 2
}
